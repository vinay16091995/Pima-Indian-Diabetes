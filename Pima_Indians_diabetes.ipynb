{
  "nbformat": 4,
  "nbformat_minor": 0,
  "metadata": {
    "colab": {
      "name": "Pima_Indians_diabetes.ipynb",
      "provenance": [],
      "collapsed_sections": []
    },
    "kernelspec": {
      "name": "python3",
      "display_name": "Python 3"
    },
    "language_info": {
      "name": "python"
    }
  },
  "cells": [
    {
      "cell_type": "markdown",
      "metadata": {
        "id": "49AEs85sFdZl"
      },
      "source": [
        "# 1. Import Libraries\n"
      ]
    },
    {
      "cell_type": "markdown",
      "metadata": {
        "id": "_6aPPgTaFp55"
      },
      "source": [
        "**Let us import the required libraries.**"
      ]
    },
    {
      "cell_type": "code",
      "metadata": {
        "id": "teTGzkl8FjeW"
      },
      "source": [
        "# import 'Numpy'\n",
        "import numpy as np\n",
        "\n",
        "# import 'Pandas' \n",
        "import pandas as pd\n",
        "\n",
        "# display all columns of the dataframe\n",
        "pd.options.display.max_columns=None\n",
        "\n",
        "# display all rows of the dataframe\n",
        "pd.options.display.max_rows=None\n",
        "\n",
        "# import subpackage of Matplotlib\n",
        "import matplotlib.pyplot as plt\n",
        "from matplotlib.colors import ListedColormap\n",
        "\n",
        "# import 'Seaborn'\n",
        "import seaborn as sns\n",
        "\n",
        "# to suppress warnings \n",
        "from warnings import filterwarnings\n",
        "filterwarnings('ignore')\n",
        "\n",
        "# to display the float values upto 6 decimal places     \n",
        "pd.options.display.float_format = '{:.6f}'.format\n",
        "\n",
        "# import variance_inflation_factor from statsmodel to perform multicollinearity analysis\n",
        "from statsmodels.stats.outliers_influence import variance_inflation_factor\n",
        "\n",
        "# import train-test split \n",
        "from sklearn.model_selection import train_test_split\n",
        "from sklearn.model_selection import cross_val_score\n",
        "from sklearn.model_selection import KFold\n",
        "from sklearn.model_selection import StratifiedKFold\n",
        "\n",
        "# import various functions from sklearn \n",
        "from sklearn import metrics\n",
        "from sklearn.linear_model import LogisticRegression\n",
        "from sklearn.naive_bayes import GaussianNB\n",
        "from sklearn.linear_model import SGDClassifier\n",
        "from sklearn.metrics import classification_report\n",
        "from sklearn.metrics import cohen_kappa_score\n",
        "from sklearn.metrics import confusion_matrix\n",
        "from sklearn.metrics import roc_curve\n",
        "from sklearn.metrics import accuracy_score\n",
        "\n",
        "# import function to perform feature selection\n",
        "from sklearn.feature_selection import RFE\n",
        "\n",
        "from sklearn.metrics import precision_recall_curve\n",
        "from sklearn.metrics import f1_score\n",
        "from sklearn.metrics import auc\n",
        "from sklearn.metrics import average_precision_score\n",
        "from sklearn.metrics import precision_score\n",
        "from sklearn.metrics import recall_score\n",
        "\n",
        "\n",
        "# import functions to perform feature selection\n",
        "from mlxtend.feature_selection import SequentialFeatureSelector as sfs\n",
        "from sklearn.feature_selection import RFE\n",
        "\n",
        "from sklearn.model_selection import GridSearchCV\n",
        "from sklearn.model_selection import cross_val_score \n"
      ],
      "execution_count": 120,
      "outputs": []
    },
    {
      "cell_type": "code",
      "metadata": {
        "colab": {
          "base_uri": "https://localhost:8080/"
        },
        "id": "jN_Jk5QOGT9E",
        "outputId": "546ad018-7e14-4e2f-ef35-ed7b64e1e731"
      },
      "source": [
        "from google.colab import drive\n",
        "\n",
        "drive.mount('/content/drive')"
      ],
      "execution_count": 2,
      "outputs": [
        {
          "output_type": "stream",
          "name": "stdout",
          "text": [
            "Mounted at /content/drive\n"
          ]
        }
      ]
    },
    {
      "cell_type": "markdown",
      "metadata": {
        "id": "tuk_dmm6GIS0"
      },
      "source": [
        "# 2. Data Preparation & Exploration"
      ]
    },
    {
      "cell_type": "markdown",
      "metadata": {
        "id": "nByIoHFcGPaT"
      },
      "source": [
        "#### Read the dataset and print the first five observations."
      ]
    },
    {
      "cell_type": "code",
      "metadata": {
        "colab": {
          "base_uri": "https://localhost:8080/",
          "height": 205
        },
        "id": "jW51ypZeGKsL",
        "outputId": "65e96115-cbb5-441b-a030-21ee1aba6073"
      },
      "source": [
        "path='/content/drive/MyDrive/df_final1/diabetes.xlsx'\n",
        "\n",
        "df=pd.read_excel(path)\n",
        "\n",
        "df.head()"
      ],
      "execution_count": 4,
      "outputs": [
        {
          "output_type": "execute_result",
          "data": {
            "text/html": [
              "<div>\n",
              "<style scoped>\n",
              "    .dataframe tbody tr th:only-of-type {\n",
              "        vertical-align: middle;\n",
              "    }\n",
              "\n",
              "    .dataframe tbody tr th {\n",
              "        vertical-align: top;\n",
              "    }\n",
              "\n",
              "    .dataframe thead th {\n",
              "        text-align: right;\n",
              "    }\n",
              "</style>\n",
              "<table border=\"1\" class=\"dataframe\">\n",
              "  <thead>\n",
              "    <tr style=\"text-align: right;\">\n",
              "      <th></th>\n",
              "      <th>Pregnancies</th>\n",
              "      <th>Glucose</th>\n",
              "      <th>BloodPressure</th>\n",
              "      <th>SkinThickness</th>\n",
              "      <th>Insulin</th>\n",
              "      <th>BMI</th>\n",
              "      <th>DiabetesPedigreeFunction</th>\n",
              "      <th>Age</th>\n",
              "      <th>Outcome</th>\n",
              "    </tr>\n",
              "  </thead>\n",
              "  <tbody>\n",
              "    <tr>\n",
              "      <th>0</th>\n",
              "      <td>6</td>\n",
              "      <td>148</td>\n",
              "      <td>72</td>\n",
              "      <td>35</td>\n",
              "      <td>0</td>\n",
              "      <td>33.600000</td>\n",
              "      <td>0.627000</td>\n",
              "      <td>50</td>\n",
              "      <td>1</td>\n",
              "    </tr>\n",
              "    <tr>\n",
              "      <th>1</th>\n",
              "      <td>1</td>\n",
              "      <td>85</td>\n",
              "      <td>66</td>\n",
              "      <td>29</td>\n",
              "      <td>0</td>\n",
              "      <td>26.600000</td>\n",
              "      <td>0.351000</td>\n",
              "      <td>31</td>\n",
              "      <td>0</td>\n",
              "    </tr>\n",
              "    <tr>\n",
              "      <th>2</th>\n",
              "      <td>8</td>\n",
              "      <td>183</td>\n",
              "      <td>64</td>\n",
              "      <td>0</td>\n",
              "      <td>0</td>\n",
              "      <td>23.300000</td>\n",
              "      <td>0.672000</td>\n",
              "      <td>32</td>\n",
              "      <td>1</td>\n",
              "    </tr>\n",
              "    <tr>\n",
              "      <th>3</th>\n",
              "      <td>1</td>\n",
              "      <td>89</td>\n",
              "      <td>66</td>\n",
              "      <td>23</td>\n",
              "      <td>94</td>\n",
              "      <td>28.100000</td>\n",
              "      <td>0.167000</td>\n",
              "      <td>21</td>\n",
              "      <td>0</td>\n",
              "    </tr>\n",
              "    <tr>\n",
              "      <th>4</th>\n",
              "      <td>0</td>\n",
              "      <td>137</td>\n",
              "      <td>40</td>\n",
              "      <td>35</td>\n",
              "      <td>168</td>\n",
              "      <td>43.100000</td>\n",
              "      <td>2.288000</td>\n",
              "      <td>33</td>\n",
              "      <td>1</td>\n",
              "    </tr>\n",
              "  </tbody>\n",
              "</table>\n",
              "</div>"
            ],
            "text/plain": [
              "   Pregnancies  Glucose  BloodPressure  SkinThickness  Insulin       BMI  \\\n",
              "0            6      148             72             35        0 33.600000   \n",
              "1            1       85             66             29        0 26.600000   \n",
              "2            8      183             64              0        0 23.300000   \n",
              "3            1       89             66             23       94 28.100000   \n",
              "4            0      137             40             35      168 43.100000   \n",
              "\n",
              "   DiabetesPedigreeFunction  Age  Outcome  \n",
              "0                  0.627000   50        1  \n",
              "1                  0.351000   31        0  \n",
              "2                  0.672000   32        1  \n",
              "3                  0.167000   21        0  \n",
              "4                  2.288000   33        1  "
            ]
          },
          "metadata": {},
          "execution_count": 4
        }
      ]
    },
    {
      "cell_type": "markdown",
      "metadata": {
        "id": "dIYfXq-QHZcG"
      },
      "source": [
        "**we will make a copy of this dataframe, so that original dataframe 'df' is not altered**"
      ]
    },
    {
      "cell_type": "code",
      "metadata": {
        "id": "wE_NBaFaF9lh"
      },
      "source": [
        "df1=df.copy()"
      ],
      "execution_count": 5,
      "outputs": []
    },
    {
      "cell_type": "markdown",
      "metadata": {
        "id": "IHLwatXiHvc-"
      },
      "source": [
        "**Let us now see the number of variables and observations in the data.**"
      ]
    },
    {
      "cell_type": "code",
      "metadata": {
        "colab": {
          "base_uri": "https://localhost:8080/"
        },
        "id": "zPXtNdcrHxqD",
        "outputId": "cc5b1db6-7127-462b-e735-abcf4e75a734"
      },
      "source": [
        "df1.shape"
      ],
      "execution_count": 6,
      "outputs": [
        {
          "output_type": "execute_result",
          "data": {
            "text/plain": [
              "(768, 9)"
            ]
          },
          "metadata": {},
          "execution_count": 6
        }
      ]
    },
    {
      "cell_type": "markdown",
      "metadata": {
        "id": "VQHqDFlHH7H6"
      },
      "source": [
        "**Interpretation:** The data has 768 observations and 9 Features."
      ]
    },
    {
      "cell_type": "markdown",
      "metadata": {
        "id": "vI5aiIj-IGlO"
      },
      "source": [
        "**Get a concise summary of the DataFrame.**"
      ]
    },
    {
      "cell_type": "code",
      "metadata": {
        "colab": {
          "base_uri": "https://localhost:8080/"
        },
        "id": "AecqFWSeH2vj",
        "outputId": "47e370e2-1464-4995-f5fa-b5650152591a"
      },
      "source": [
        "df1.info()"
      ],
      "execution_count": 7,
      "outputs": [
        {
          "output_type": "stream",
          "name": "stdout",
          "text": [
            "<class 'pandas.core.frame.DataFrame'>\n",
            "RangeIndex: 768 entries, 0 to 767\n",
            "Data columns (total 9 columns):\n",
            " #   Column                    Non-Null Count  Dtype  \n",
            "---  ------                    --------------  -----  \n",
            " 0   Pregnancies               768 non-null    int64  \n",
            " 1   Glucose                   768 non-null    int64  \n",
            " 2   BloodPressure             768 non-null    int64  \n",
            " 3   SkinThickness             768 non-null    int64  \n",
            " 4   Insulin                   768 non-null    int64  \n",
            " 5   BMI                       768 non-null    float64\n",
            " 6   DiabetesPedigreeFunction  768 non-null    float64\n",
            " 7   Age                       768 non-null    int64  \n",
            " 8   Outcome                   768 non-null    int64  \n",
            "dtypes: float64(2), int64(7)\n",
            "memory usage: 54.1 KB\n"
          ]
        }
      ]
    },
    {
      "cell_type": "markdown",
      "metadata": {
        "id": "tWqI066wL2Po"
      },
      "source": [
        "**Interpretation:** by looking at the datatypes of columns, we can say that all the variables have correct data type and no null values present in the dataset.Here Target variable is `Outcome` which tells whether person is diabetic or not, 1 means diabetic and 0 means non-diabetic."
      ]
    },
    {
      "cell_type": "code",
      "metadata": {
        "colab": {
          "base_uri": "https://localhost:8080/"
        },
        "id": "mu8kX6WrL1J1",
        "outputId": "e39a3090-ddb0-4314-d389-33fee0c520a2"
      },
      "source": [
        "df1.columns"
      ],
      "execution_count": 8,
      "outputs": [
        {
          "output_type": "execute_result",
          "data": {
            "text/plain": [
              "Index(['Pregnancies', 'Glucose', 'BloodPressure', 'SkinThickness', 'Insulin',\n",
              "       'BMI', 'DiabetesPedigreeFunction', 'Age', 'Outcome'],\n",
              "      dtype='object')"
            ]
          },
          "metadata": {},
          "execution_count": 8
        }
      ]
    },
    {
      "cell_type": "code",
      "metadata": {
        "colab": {
          "base_uri": "https://localhost:8080/",
          "height": 585
        },
        "id": "DJZwMS1JgQIQ",
        "outputId": "be2cc8b8-2df0-45fe-d773-9c0024b79403"
      },
      "source": [
        "plt.figure(figsize=[15,8])\n",
        "\n",
        "for i in range(1, 9):\n",
        "    plt.subplot(4, 2, i)\n",
        "    sns.distplot(a=df1[df1.columns[i-1]])\n",
        "\n",
        "plt.tight_layout()\n",
        "\n",
        "plt.show()"
      ],
      "execution_count": 36,
      "outputs": [
        {
          "output_type": "display_data",
          "data": {
            "image/png": "[encoded data removed]",
            "text/plain": [
              "<Figure size 1080x576 with 8 Axes>"
            ]
          },
          "metadata": {
            "needs_background": "light"
          }
        }
      ]
    },
    {
      "cell_type": "code",
      "metadata": {
        "colab": {
          "base_uri": "https://localhost:8080/"
        },
        "id": "ey47-Er5yZ8v",
        "outputId": "4dcf4f83-1b75-414a-b7c4-ce4fb5f689f2"
      },
      "source": [
        "df1.skew()"
      ],
      "execution_count": 61,
      "outputs": [
        {
          "output_type": "execute_result",
          "data": {
            "text/plain": [
              "Pregnancies                 0.901674\n",
              "Glucose                     0.173754\n",
              "BloodPressure              -1.843608\n",
              "SkinThickness               0.109372\n",
              "Insulin                     2.272251\n",
              "BMI                        -0.428982\n",
              "DiabetesPedigreeFunction    1.919911\n",
              "Age                         1.129597\n",
              "Outcome                     0.635017\n",
              "dtype: float64"
            ]
          },
          "metadata": {},
          "execution_count": 61
        }
      ]
    },
    {
      "cell_type": "code",
      "metadata": {
        "id": "VeeoFibe7GJt"
      },
      "source": [
        "df1=df1[df1['Age']<=70]"
      ],
      "execution_count": 64,
      "outputs": []
    },
    {
      "cell_type": "code",
      "metadata": {
        "colab": {
          "base_uri": "https://localhost:8080/"
        },
        "id": "OWsZeCu37W5S",
        "outputId": "fc650b1a-1489-42bf-b06c-a1ac33479c6a"
      },
      "source": [
        "len(df1)"
      ],
      "execution_count": 65,
      "outputs": [
        {
          "output_type": "execute_result",
          "data": {
            "text/plain": [
              "766"
            ]
          },
          "metadata": {},
          "execution_count": 65
        }
      ]
    },
    {
      "cell_type": "code",
      "metadata": {
        "colab": {
          "base_uri": "https://localhost:8080/"
        },
        "id": "fC_kL-lV7huI",
        "outputId": "24bb5db1-1445-453d-88e0-1fb4927807ce"
      },
      "source": [
        "len(df1[df1['BloodPressure']==0])"
      ],
      "execution_count": 66,
      "outputs": [
        {
          "output_type": "execute_result",
          "data": {
            "text/plain": [
              "34"
            ]
          },
          "metadata": {},
          "execution_count": 66
        }
      ]
    },
    {
      "cell_type": "code",
      "metadata": {
        "id": "L_fhM4z-71Uo"
      },
      "source": [
        "df1['BloodPressure']=df1['BloodPressure'].replace({0:np.median(df1['BloodPressure'])})"
      ],
      "execution_count": 70,
      "outputs": []
    },
    {
      "cell_type": "code",
      "metadata": {
        "colab": {
          "base_uri": "https://localhost:8080/"
        },
        "id": "q1BrVYVQ9ZGk",
        "outputId": "34cf3f10-2617-437c-9fb2-8acfdd3bb805"
      },
      "source": [
        "df1['BloodPressure'].skew()"
      ],
      "execution_count": 73,
      "outputs": [
        {
          "output_type": "execute_result",
          "data": {
            "text/plain": [
              "0.14210068121114353"
            ]
          },
          "metadata": {},
          "execution_count": 73
        }
      ]
    },
    {
      "cell_type": "code",
      "metadata": {
        "id": "j7AzZCeO957o"
      },
      "source": [
        "df1['BMI']=df1['BMI'].replace({0:np.median(df1['BMI'])})"
      ],
      "execution_count": 74,
      "outputs": []
    },
    {
      "cell_type": "code",
      "metadata": {
        "colab": {
          "base_uri": "https://localhost:8080/"
        },
        "id": "UCDvzlVZ-XjE",
        "outputId": "38159acb-8b03-4bda-e8a4-754263f6938c"
      },
      "source": [
        "df1['BMI'].skew()"
      ],
      "execution_count": 75,
      "outputs": [
        {
          "output_type": "execute_result",
          "data": {
            "text/plain": [
              "0.6041350088851118"
            ]
          },
          "metadata": {},
          "execution_count": 75
        }
      ]
    },
    {
      "cell_type": "code",
      "metadata": {
        "id": "tbsoaTid-h67"
      },
      "source": [
        "df1['Glucose']=df1['Glucose'].replace({0:np.median(df1['Glucose'])})"
      ],
      "execution_count": 76,
      "outputs": []
    },
    {
      "cell_type": "code",
      "metadata": {
        "id": "8TJIJ6-h_CW8"
      },
      "source": [
        "df1['Insulin']=df1['Insulin'].replace({0:np.median(df1['Insulin'])})"
      ],
      "execution_count": 77,
      "outputs": []
    },
    {
      "cell_type": "code",
      "metadata": {
        "id": "QKg-fDzwAm5U"
      },
      "source": [
        "df1['SkinThickness']=df1['SkinThickness'].replace({0:np.median(df1['SkinThickness'])})"
      ],
      "execution_count": 84,
      "outputs": []
    },
    {
      "cell_type": "code",
      "metadata": {
        "colab": {
          "base_uri": "https://localhost:8080/"
        },
        "id": "4Xhcle9E_5SK",
        "outputId": "bf955b73-0341-4a4b-ae77-9cd4a4526bc1"
      },
      "source": [
        "len(df1)"
      ],
      "execution_count": 78,
      "outputs": [
        {
          "output_type": "execute_result",
          "data": {
            "text/plain": [
              "766"
            ]
          },
          "metadata": {},
          "execution_count": 78
        }
      ]
    },
    {
      "cell_type": "code",
      "metadata": {
        "colab": {
          "base_uri": "https://localhost:8080/"
        },
        "id": "lRjrMJ3hAFqB",
        "outputId": "6dc190c2-6deb-46bc-b241-4f85765f719b"
      },
      "source": [
        "df1.skew()"
      ],
      "execution_count": 79,
      "outputs": [
        {
          "output_type": "execute_result",
          "data": {
            "text/plain": [
              "Pregnancies                0.904551\n",
              "Glucose                    0.536234\n",
              "BloodPressure              0.142101\n",
              "SkinThickness              0.109902\n",
              "Insulin                    2.688871\n",
              "BMI                        0.604135\n",
              "DiabetesPedigreeFunction   1.924313\n",
              "Age                        1.079137\n",
              "Outcome                    0.630808\n",
              "dtype: float64"
            ]
          },
          "metadata": {},
          "execution_count": 79
        }
      ]
    },
    {
      "cell_type": "code",
      "metadata": {
        "colab": {
          "base_uri": "https://localhost:8080/",
          "height": 299
        },
        "id": "QkGGO5j_i0S0",
        "outputId": "d87af6f3-f670-499a-ba79-220e90aa1fc7"
      },
      "source": [
        "df1.describe()"
      ],
      "execution_count": 88,
      "outputs": [
        {
          "output_type": "execute_result",
          "data": {
            "text/html": [
              "<div>\n",
              "<style scoped>\n",
              "    .dataframe tbody tr th:only-of-type {\n",
              "        vertical-align: middle;\n",
              "    }\n",
              "\n",
              "    .dataframe tbody tr th {\n",
              "        vertical-align: top;\n",
              "    }\n",
              "\n",
              "    .dataframe thead th {\n",
              "        text-align: right;\n",
              "    }\n",
              "</style>\n",
              "<table border=\"1\" class=\"dataframe\">\n",
              "  <thead>\n",
              "    <tr style=\"text-align: right;\">\n",
              "      <th></th>\n",
              "      <th>Pregnancies</th>\n",
              "      <th>Glucose</th>\n",
              "      <th>BloodPressure</th>\n",
              "      <th>SkinThickness</th>\n",
              "      <th>Insulin</th>\n",
              "      <th>BMI</th>\n",
              "      <th>DiabetesPedigreeFunction</th>\n",
              "      <th>Age</th>\n",
              "      <th>Outcome</th>\n",
              "    </tr>\n",
              "  </thead>\n",
              "  <tbody>\n",
              "    <tr>\n",
              "      <th>count</th>\n",
              "      <td>766.000000</td>\n",
              "      <td>766.000000</td>\n",
              "      <td>766.000000</td>\n",
              "      <td>766.000000</td>\n",
              "      <td>766.000000</td>\n",
              "      <td>766.000000</td>\n",
              "      <td>766.000000</td>\n",
              "      <td>766.000000</td>\n",
              "      <td>766.000000</td>\n",
              "    </tr>\n",
              "    <tr>\n",
              "      <th>mean</th>\n",
              "      <td>3.840731</td>\n",
              "      <td>121.643603</td>\n",
              "      <td>72.385117</td>\n",
              "      <td>27.332898</td>\n",
              "      <td>94.781332</td>\n",
              "      <td>32.476240</td>\n",
              "      <td>0.471422</td>\n",
              "      <td>33.127937</td>\n",
              "      <td>0.349869</td>\n",
              "    </tr>\n",
              "    <tr>\n",
              "      <th>std</th>\n",
              "      <td>3.368165</td>\n",
              "      <td>30.474627</td>\n",
              "      <td>12.112295</td>\n",
              "      <td>9.237471</td>\n",
              "      <td>105.652517</td>\n",
              "      <td>6.864520</td>\n",
              "      <td>0.331505</td>\n",
              "      <td>11.563152</td>\n",
              "      <td>0.477240</td>\n",
              "    </tr>\n",
              "    <tr>\n",
              "      <th>min</th>\n",
              "      <td>0.000000</td>\n",
              "      <td>44.000000</td>\n",
              "      <td>24.000000</td>\n",
              "      <td>7.000000</td>\n",
              "      <td>14.000000</td>\n",
              "      <td>18.200000</td>\n",
              "      <td>0.078000</td>\n",
              "      <td>21.000000</td>\n",
              "      <td>0.000000</td>\n",
              "    </tr>\n",
              "    <tr>\n",
              "      <th>25%</th>\n",
              "      <td>1.000000</td>\n",
              "      <td>99.250000</td>\n",
              "      <td>64.000000</td>\n",
              "      <td>23.000000</td>\n",
              "      <td>30.500000</td>\n",
              "      <td>27.600000</td>\n",
              "      <td>0.243250</td>\n",
              "      <td>24.000000</td>\n",
              "      <td>0.000000</td>\n",
              "    </tr>\n",
              "    <tr>\n",
              "      <th>50%</th>\n",
              "      <td>3.000000</td>\n",
              "      <td>117.000000</td>\n",
              "      <td>72.000000</td>\n",
              "      <td>23.000000</td>\n",
              "      <td>31.250000</td>\n",
              "      <td>32.000000</td>\n",
              "      <td>0.370500</td>\n",
              "      <td>29.000000</td>\n",
              "      <td>0.000000</td>\n",
              "    </tr>\n",
              "    <tr>\n",
              "      <th>75%</th>\n",
              "      <td>6.000000</td>\n",
              "      <td>140.750000</td>\n",
              "      <td>80.000000</td>\n",
              "      <td>32.000000</td>\n",
              "      <td>127.750000</td>\n",
              "      <td>36.600000</td>\n",
              "      <td>0.625500</td>\n",
              "      <td>40.750000</td>\n",
              "      <td>1.000000</td>\n",
              "    </tr>\n",
              "    <tr>\n",
              "      <th>max</th>\n",
              "      <td>17.000000</td>\n",
              "      <td>199.000000</td>\n",
              "      <td>122.000000</td>\n",
              "      <td>99.000000</td>\n",
              "      <td>846.000000</td>\n",
              "      <td>67.100000</td>\n",
              "      <td>2.420000</td>\n",
              "      <td>70.000000</td>\n",
              "      <td>1.000000</td>\n",
              "    </tr>\n",
              "  </tbody>\n",
              "</table>\n",
              "</div>"
            ],
            "text/plain": [
              "       Pregnancies    Glucose  BloodPressure  SkinThickness    Insulin  \\\n",
              "count   766.000000 766.000000     766.000000     766.000000 766.000000   \n",
              "mean      3.840731 121.643603      72.385117      27.332898  94.781332   \n",
              "std       3.368165  30.474627      12.112295       9.237471 105.652517   \n",
              "min       0.000000  44.000000      24.000000       7.000000  14.000000   \n",
              "25%       1.000000  99.250000      64.000000      23.000000  30.500000   \n",
              "50%       3.000000 117.000000      72.000000      23.000000  31.250000   \n",
              "75%       6.000000 140.750000      80.000000      32.000000 127.750000   \n",
              "max      17.000000 199.000000     122.000000      99.000000 846.000000   \n",
              "\n",
              "             BMI  DiabetesPedigreeFunction        Age    Outcome  \n",
              "count 766.000000                766.000000 766.000000 766.000000  \n",
              "mean   32.476240                  0.471422  33.127937   0.349869  \n",
              "std     6.864520                  0.331505  11.563152   0.477240  \n",
              "min    18.200000                  0.078000  21.000000   0.000000  \n",
              "25%    27.600000                  0.243250  24.000000   0.000000  \n",
              "50%    32.000000                  0.370500  29.000000   0.000000  \n",
              "75%    36.600000                  0.625500  40.750000   1.000000  \n",
              "max    67.100000                  2.420000  70.000000   1.000000  "
            ]
          },
          "metadata": {},
          "execution_count": 88
        }
      ]
    },
    {
      "cell_type": "code",
      "metadata": {
        "colab": {
          "base_uri": "https://localhost:8080/",
          "height": 585
        },
        "id": "qRNZqgtWBDiq",
        "outputId": "a1200395-8125-403c-95c7-30f3b3e830a7"
      },
      "source": [
        "plt.figure(figsize=[15,8])\n",
        "\n",
        "for i in range(1, 9):\n",
        "    plt.subplot(4, 2, i)\n",
        "    sns.distplot(a=df1[df1.columns[i-1]])\n",
        "\n",
        "plt.tight_layout()\n",
        "\n",
        "plt.show()"
      ],
      "execution_count": 89,
      "outputs": [
        {
          "output_type": "display_data",
          "data": {
            "image/png": "[encoded data removed]",
            "text/plain": [
              "<Figure size 1080x576 with 8 Axes>"
            ]
          },
          "metadata": {
            "needs_background": "light"
          }
        }
      ]
    },
    {
      "cell_type": "code",
      "metadata": {
        "id": "dpiyEmchB3HA"
      },
      "source": [
        "X=df1.drop('Outcome',axis=1)\n",
        "y=df1['Outcome']"
      ],
      "execution_count": 94,
      "outputs": []
    },
    {
      "cell_type": "code",
      "metadata": {
        "id": "ZZagRUFGBTLl"
      },
      "source": [
        "X_transformed=X.copy()\n",
        "\n",
        "X_transformed['Pregnancies']=np.sqrt(X_transformed['Pregnancies'])\n",
        "\n",
        "X_transformed[['Glucose','SkinThickness','Insulin','BMI','DiabetesPedigreeFunction','Age']]=np.log(X_transformed[['Glucose','SkinThickness','Insulin','BMI','DiabetesPedigreeFunction','Age']])"
      ],
      "execution_count": 99,
      "outputs": []
    },
    {
      "cell_type": "code",
      "metadata": {
        "colab": {
          "base_uri": "https://localhost:8080/"
        },
        "id": "z8Ah6V8tDP0T",
        "outputId": "5077974a-1297-4298-ab93-7056c7854bd3"
      },
      "source": [
        "X_transformed.skew()"
      ],
      "execution_count": 100,
      "outputs": [
        {
          "output_type": "execute_result",
          "data": {
            "text/plain": [
              "Pregnancies                -0.158233\n",
              "Glucose                    -0.062696\n",
              "BloodPressure               0.142101\n",
              "SkinThickness              -0.290051\n",
              "Insulin                     0.748493\n",
              "BMI                        -0.050612\n",
              "DiabetesPedigreeFunction    0.117900\n",
              "Age                         0.584495\n",
              "dtype: float64"
            ]
          },
          "metadata": {},
          "execution_count": 100
        }
      ]
    },
    {
      "cell_type": "code",
      "metadata": {
        "colab": {
          "base_uri": "https://localhost:8080/"
        },
        "id": "Y2corVi9Dxbd",
        "outputId": "54d5c7c0-19b8-4c2f-bed0-9e4d61d4272a"
      },
      "source": [
        "df1.duplicated().sum()"
      ],
      "execution_count": 101,
      "outputs": [
        {
          "output_type": "execute_result",
          "data": {
            "text/plain": [
              "0"
            ]
          },
          "metadata": {},
          "execution_count": 101
        }
      ]
    },
    {
      "cell_type": "code",
      "metadata": {
        "id": "oOF0-uezGIqn"
      },
      "source": [
        "X_transformed1=X_transformed.copy()"
      ],
      "execution_count": 105,
      "outputs": []
    },
    {
      "cell_type": "code",
      "metadata": {
        "colab": {
          "base_uri": "https://localhost:8080/",
          "height": 299
        },
        "id": "DKPEYlT5D7_6",
        "outputId": "a2aedd68-aa8a-4946-cb07-43c36848b366"
      },
      "source": [
        "# create an empty dataframe to store the VIF for each variable\n",
        "vif = pd.DataFrame()\n",
        "\n",
        "# calculate VIF using list comprehension \n",
        "# use for loop to access each variable \n",
        "# calculate VIF for each variable and create a column 'VIF_Factor' to store the values \n",
        "vif[\"VIF_Factor\"] = [variance_inflation_factor(X_transformed1.values, i) for i in range(X_transformed1.shape[1])]\n",
        "\n",
        "# create a column of variable names\n",
        "vif[\"Features\"] = X_transformed1.columns\n",
        "\n",
        "# sort the dataframe based on the values of VIF_Factor in descending order\n",
        "# 'ascending = False' sorts the data in descending order\n",
        "# 'reset_index' resets the index of the dataframe\n",
        "# 'drop = True' drops the previous index\n",
        "vif.sort_values('VIF_Factor', ascending = False).reset_index(drop = True)"
      ],
      "execution_count": 106,
      "outputs": [
        {
          "output_type": "execute_result",
          "data": {
            "text/html": [
              "<div>\n",
              "<style scoped>\n",
              "    .dataframe tbody tr th:only-of-type {\n",
              "        vertical-align: middle;\n",
              "    }\n",
              "\n",
              "    .dataframe tbody tr th {\n",
              "        vertical-align: top;\n",
              "    }\n",
              "\n",
              "    .dataframe thead th {\n",
              "        text-align: right;\n",
              "    }\n",
              "</style>\n",
              "<table border=\"1\" class=\"dataframe\">\n",
              "  <thead>\n",
              "    <tr style=\"text-align: right;\">\n",
              "      <th></th>\n",
              "      <th>VIF_Factor</th>\n",
              "      <th>Features</th>\n",
              "    </tr>\n",
              "  </thead>\n",
              "  <tbody>\n",
              "    <tr>\n",
              "      <th>0</th>\n",
              "      <td>347.216753</td>\n",
              "      <td>BMI</td>\n",
              "    </tr>\n",
              "    <tr>\n",
              "      <th>1</th>\n",
              "      <td>314.060065</td>\n",
              "      <td>Glucose</td>\n",
              "    </tr>\n",
              "    <tr>\n",
              "      <th>2</th>\n",
              "      <td>180.647424</td>\n",
              "      <td>Age</td>\n",
              "    </tr>\n",
              "    <tr>\n",
              "      <th>3</th>\n",
              "      <td>142.964539</td>\n",
              "      <td>SkinThickness</td>\n",
              "    </tr>\n",
              "    <tr>\n",
              "      <th>4</th>\n",
              "      <td>45.092966</td>\n",
              "      <td>BloodPressure</td>\n",
              "    </tr>\n",
              "    <tr>\n",
              "      <th>5</th>\n",
              "      <td>29.452859</td>\n",
              "      <td>Insulin</td>\n",
              "    </tr>\n",
              "    <tr>\n",
              "      <th>6</th>\n",
              "      <td>5.639592</td>\n",
              "      <td>Pregnancies</td>\n",
              "    </tr>\n",
              "    <tr>\n",
              "      <th>7</th>\n",
              "      <td>3.272115</td>\n",
              "      <td>DiabetesPedigreeFunction</td>\n",
              "    </tr>\n",
              "  </tbody>\n",
              "</table>\n",
              "</div>"
            ],
            "text/plain": [
              "   VIF_Factor                  Features\n",
              "0  347.216753                       BMI\n",
              "1  314.060065                   Glucose\n",
              "2  180.647424                       Age\n",
              "3  142.964539             SkinThickness\n",
              "4   45.092966             BloodPressure\n",
              "5   29.452859                   Insulin\n",
              "6    5.639592               Pregnancies\n",
              "7    3.272115  DiabetesPedigreeFunction"
            ]
          },
          "metadata": {},
          "execution_count": 106
        }
      ]
    },
    {
      "cell_type": "code",
      "metadata": {
        "colab": {
          "base_uri": "https://localhost:8080/"
        },
        "id": "_NxTDHfGEeR_",
        "outputId": "c221f2c9-8859-4a52-af2d-00ee857978d0"
      },
      "source": [
        "# for each numeric variable, calculate VIF and save it in a dataframe 'vif'\n",
        "\n",
        "# use for loop to iterate the VIF function \n",
        "for ind in range(len(X_transformed1.columns)):\n",
        "    \n",
        "    # create an empty dataframe\n",
        "    vif = pd.DataFrame()\n",
        "\n",
        "    # calculate VIF using list comprehension\n",
        "    # use for loop to access each variable \n",
        "    # calculate VIF for each variable and create a column 'VIF_Factor' to store the values \n",
        "    vif[\"VIF_Factor\"] = [variance_inflation_factor(X_transformed1.values, i) for i in range(X_transformed1.shape[1])]\n",
        "\n",
        "    # create a column of variable names\n",
        "    vif[\"Features\"] = X_transformed1.columns\n",
        "\n",
        "    # filter the variables with VIF greater than 10 and store it in a dataframe 'multi' \n",
        "    # one can choose the threshold other than 10 (it depends on the business requirements)\n",
        "    multi = vif[vif['VIF_Factor'] > 10]\n",
        "    \n",
        "    # if dataframe 'multi' is not empty, then sort the dataframe by VIF values\n",
        "    # if dataframe 'multi' is empty (i.e. all VIF <= 10), then print the dataframe 'vif' and break the for loop using 'break' \n",
        "    # 'by' sorts the data using given variable(s)\n",
        "    # 'ascending = False' sorts the data in descending order\n",
        "    if(multi.empty == False):\n",
        "        df_sorted = multi.sort_values(by = 'VIF_Factor', ascending = False)\n",
        "    else:\n",
        "        print(vif)\n",
        "        break\n",
        "    \n",
        "    # use if-else to drop the variable with the highest VIF\n",
        "    # if  dataframe 'df_sorted' is not empty, then drop the first entry in the column 'Features' from the numeric variables\n",
        "    # select the variable using 'iloc[]'\n",
        "    # 'axis=1' drops the corresponding column\n",
        "    #  else print the final dataframe 'vif' with all values after removal of variables with VIF less than 10  \n",
        "    if (df_sorted.empty == False):\n",
        "        X_transformed1 = X_transformed1.drop(df_sorted.Features.iloc[0], axis=1)\n",
        "    else:\n",
        "        print(vif)"
      ],
      "execution_count": 107,
      "outputs": [
        {
          "output_type": "stream",
          "name": "stdout",
          "text": [
            "   VIF_Factor                  Features\n",
            "0    3.510234               Pregnancies\n",
            "1    4.355494                   Insulin\n",
            "2    2.781493  DiabetesPedigreeFunction\n"
          ]
        }
      ]
    },
    {
      "cell_type": "code",
      "metadata": {
        "colab": {
          "base_uri": "https://localhost:8080/",
          "height": 205
        },
        "id": "iosOllYjGdK6",
        "outputId": "9f4a9afd-646a-4086-dd7a-bfbb6a473d43"
      },
      "source": [
        "# scale the independent numeric\n",
        "X_transformed = X_transformed.apply(lambda rec: (rec - rec.mean()) / rec.std())\n",
        "\n",
        "X_transformed.head()"
      ],
      "execution_count": 109,
      "outputs": [
        {
          "output_type": "execute_result",
          "data": {
            "text/html": [
              "<div>\n",
              "<style scoped>\n",
              "    .dataframe tbody tr th:only-of-type {\n",
              "        vertical-align: middle;\n",
              "    }\n",
              "\n",
              "    .dataframe tbody tr th {\n",
              "        vertical-align: top;\n",
              "    }\n",
              "\n",
              "    .dataframe thead th {\n",
              "        text-align: right;\n",
              "    }\n",
              "</style>\n",
              "<table border=\"1\" class=\"dataframe\">\n",
              "  <thead>\n",
              "    <tr style=\"text-align: right;\">\n",
              "      <th></th>\n",
              "      <th>Pregnancies</th>\n",
              "      <th>Glucose</th>\n",
              "      <th>BloodPressure</th>\n",
              "      <th>SkinThickness</th>\n",
              "      <th>Insulin</th>\n",
              "      <th>BMI</th>\n",
              "      <th>DiabetesPedigreeFunction</th>\n",
              "      <th>Age</th>\n",
              "    </tr>\n",
              "  </thead>\n",
              "  <tbody>\n",
              "    <tr>\n",
              "      <th>0</th>\n",
              "      <td>0.766196</td>\n",
              "      <td>0.908532</td>\n",
              "      <td>-0.031796</td>\n",
              "      <td>0.900399</td>\n",
              "      <td>-0.833062</td>\n",
              "      <td>0.266390</td>\n",
              "      <td>0.767060</td>\n",
              "      <td>1.455236</td>\n",
              "    </tr>\n",
              "    <tr>\n",
              "      <th>1</th>\n",
              "      <td>-0.704110</td>\n",
              "      <td>-1.309804</td>\n",
              "      <td>-0.527160</td>\n",
              "      <td>0.340055</td>\n",
              "      <td>-0.833062</td>\n",
              "      <td>-0.844783</td>\n",
              "      <td>-0.133086</td>\n",
              "      <td>-0.039073</td>\n",
              "    </tr>\n",
              "    <tr>\n",
              "      <th>2</th>\n",
              "      <td>1.150575</td>\n",
              "      <td>1.757663</td>\n",
              "      <td>-0.692281</td>\n",
              "      <td>-0.350650</td>\n",
              "      <td>-0.833062</td>\n",
              "      <td>-1.474810</td>\n",
              "      <td>0.874601</td>\n",
              "      <td>0.060171</td>\n",
              "    </tr>\n",
              "    <tr>\n",
              "      <th>3</th>\n",
              "      <td>-0.704110</td>\n",
              "      <td>-1.125856</td>\n",
              "      <td>-0.527160</td>\n",
              "      <td>-0.350650</td>\n",
              "      <td>0.479761</td>\n",
              "      <td>-0.583853</td>\n",
              "      <td>-1.285564</td>\n",
              "      <td>-1.256515</td>\n",
              "    </tr>\n",
              "    <tr>\n",
              "      <th>4</th>\n",
              "      <td>-1.718472</td>\n",
              "      <td>0.599594</td>\n",
              "      <td>-2.673739</td>\n",
              "      <td>0.900399</td>\n",
              "      <td>1.157033</td>\n",
              "      <td>1.450728</td>\n",
              "      <td>2.775519</td>\n",
              "      <td>0.156361</td>\n",
              "    </tr>\n",
              "  </tbody>\n",
              "</table>\n",
              "</div>"
            ],
            "text/plain": [
              "   Pregnancies   Glucose  BloodPressure  SkinThickness   Insulin       BMI  \\\n",
              "0     0.766196  0.908532      -0.031796       0.900399 -0.833062  0.266390   \n",
              "1    -0.704110 -1.309804      -0.527160       0.340055 -0.833062 -0.844783   \n",
              "2     1.150575  1.757663      -0.692281      -0.350650 -0.833062 -1.474810   \n",
              "3    -0.704110 -1.125856      -0.527160      -0.350650  0.479761 -0.583853   \n",
              "4    -1.718472  0.599594      -2.673739       0.900399  1.157033  1.450728   \n",
              "\n",
              "   DiabetesPedigreeFunction       Age  \n",
              "0                  0.767060  1.455236  \n",
              "1                 -0.133086 -0.039073  \n",
              "2                  0.874601  0.060171  \n",
              "3                 -1.285564 -1.256515  \n",
              "4                  2.775519  0.156361  "
            ]
          },
          "metadata": {},
          "execution_count": 109
        }
      ]
    },
    {
      "cell_type": "code",
      "metadata": {
        "id": "t2khY6w7G4Tp"
      },
      "source": [
        "# train-test split\n",
        "\n",
        "X_train, X_test, y_train, y_test = train_test_split(X_transformed, y, test_size = 0.20, random_state = 10,stratify=y)"
      ],
      "execution_count": 116,
      "outputs": []
    },
    {
      "cell_type": "code",
      "metadata": {
        "colab": {
          "base_uri": "https://localhost:8080/"
        },
        "id": "8MxoJJj9HNzN",
        "outputId": "382ed15d-9285-4932-9495-5c8688890587"
      },
      "source": [
        "# train data shape\n",
        "\n",
        "print('independent variables train data shape:',X_train.shape)\n",
        "\n",
        "print('target variables train data shape:',y_train.shape)\n",
        "\n",
        "# test data shape\n",
        "\n",
        "print('independent variables test data shape:',X_test.shape)\n",
        "\n",
        "print('target variables test data shape:',y_test.shape)\n"
      ],
      "execution_count": 117,
      "outputs": [
        {
          "output_type": "stream",
          "name": "stdout",
          "text": [
            "independent variables train data shape: (612, 8)\n",
            "target variables train data shape: (612,)\n",
            "independent variables test data shape: (154, 8)\n",
            "target variables test data shape: (154,)\n"
          ]
        }
      ]
    },
    {
      "cell_type": "code",
      "metadata": {
        "colab": {
          "base_uri": "https://localhost:8080/"
        },
        "id": "g8r9iMs7HT7L",
        "outputId": "167e02d5-8c12-4189-946a-621ca273127d"
      },
      "source": [
        "y_test.value_counts(normalize=True)"
      ],
      "execution_count": 118,
      "outputs": [
        {
          "output_type": "execute_result",
          "data": {
            "text/plain": [
              "0   0.649351\n",
              "1   0.350649\n",
              "Name: Outcome, dtype: float64"
            ]
          },
          "metadata": {},
          "execution_count": 118
        }
      ]
    },
    {
      "cell_type": "code",
      "metadata": {
        "colab": {
          "base_uri": "https://localhost:8080/"
        },
        "id": "r00hgnYgHYhZ",
        "outputId": "57d5edbc-037f-4920-f033-56c8fe7a41bf"
      },
      "source": [
        "y_train.value_counts(normalize=True)"
      ],
      "execution_count": 119,
      "outputs": [
        {
          "output_type": "execute_result",
          "data": {
            "text/plain": [
              "0   0.650327\n",
              "1   0.349673\n",
              "Name: Outcome, dtype: float64"
            ]
          },
          "metadata": {},
          "execution_count": 119
        }
      ]
    },
    {
      "cell_type": "markdown",
      "metadata": {
        "id": "p2d0GyuLI5_v"
      },
      "source": [
        "## 3. Model Building"
      ]
    },
    {
      "cell_type": "markdown",
      "metadata": {
        "id": "qMVtu6pyI_Tg"
      },
      "source": [
        "### A. Logistic Regression (Full Model)"
      ]
    },
    {
      "cell_type": "code",
      "metadata": {
        "id": "ceH0h7dMI1TY"
      },
      "source": [
        "# instantiate the model \n",
        "logreg = LogisticRegression()\n",
        "\n",
        "             \n",
        "# fit the model with data\n",
        "logreg.fit(X_train,y_train)\n",
        "\n",
        "#\n",
        "y_pred_test=logreg.predict(X_test)"
      ],
      "execution_count": 121,
      "outputs": []
    },
    {
      "cell_type": "code",
      "metadata": {
        "colab": {
          "base_uri": "https://localhost:8080/",
          "height": 492
        },
        "id": "qPaV2voIJWXF",
        "outputId": "7357f104-4469-45d8-c1c4-cdc02dfeddfb"
      },
      "source": [
        "plt.figure(figsize=[15,8])\n",
        "\n",
        "# confusion matrix\n",
        "\n",
        "cnf_matrix = confusion_matrix(y_test, y_pred_test)\n",
        "\n",
        "# label the confusion matrix  \n",
        "# pass the matrix as 'data'\n",
        "# pass the required column names to the parameter, 'columns'\n",
        "# pass the required row names to the parameter, 'index'\n",
        "conf_matrix = pd.DataFrame(data = cnf_matrix,columns = ['Predicted:0','Predicted:1'], index = ['Actual:0','Actual:1'])\n",
        "\n",
        "# plot a heatmap to visualize the confusion matrix\n",
        "# 'annot' prints the value of each grid \n",
        "# 'fmt = d' returns the integer value in each grid\n",
        "# 'cmap' assigns color to each grid\n",
        "# as we do not require different colors for each grid in the heatmap,\n",
        "# use 'ListedColormap' to assign the specified color to the grid\n",
        "# 'cbar = False' will not return the color bar to the right side of the heatmap\n",
        "# 'linewidths' assigns the width to the line that divides each grid\n",
        "# 'annot_kws = {'size':25})' assigns the font size of the annotated text \n",
        "sns.heatmap(conf_matrix, annot = True, fmt = 'd', cmap = ListedColormap(['lightskyblue']), cbar = False, \n",
        "            linewidths = 0.1, annot_kws = {'size':25})\n",
        "\n",
        "# set the font size of x-axis ticks using 'fontsize'\n",
        "plt.xticks(fontsize = 20)\n",
        "\n",
        "# set the font size of y-axis ticks using 'fontsize'\n",
        "plt.yticks(fontsize = 20)\n",
        "\n",
        "# display the plot\n",
        "plt.show()"
      ],
      "execution_count": 122,
      "outputs": [
        {
          "output_type": "display_data",
          "data": {
            "image/png": "[encoded data removed]",
            "text/plain": [
              "<Figure size 1080x576 with 1 Axes>"
            ]
          },
          "metadata": {
            "needs_background": "light"
          }
        }
      ]
    },
    {
      "cell_type": "code",
      "metadata": {
        "colab": {
          "base_uri": "https://localhost:8080/"
        },
        "id": "gWlSdRibJf-_",
        "outputId": "b2db4a66-7dbe-47fb-9d87-b766519201d1"
      },
      "source": [
        "# calculate various performance measures using classification report\n",
        "\n",
        "acc_table = classification_report(y_test, y_pred_test)\n",
        "\n",
        "# print the table\n",
        "print(acc_table)"
      ],
      "execution_count": 123,
      "outputs": [
        {
          "output_type": "stream",
          "name": "stdout",
          "text": [
            "              precision    recall  f1-score   support\n",
            "\n",
            "           0       0.86      0.89      0.87       100\n",
            "           1       0.78      0.72      0.75        54\n",
            "\n",
            "    accuracy                           0.83       154\n",
            "   macro avg       0.82      0.81      0.81       154\n",
            "weighted avg       0.83      0.83      0.83       154\n",
            "\n"
          ]
        }
      ]
    },
    {
      "cell_type": "code",
      "metadata": {
        "colab": {
          "base_uri": "https://localhost:8080/",
          "height": 467
        },
        "id": "__R3ihruJlX3",
        "outputId": "a084cac2-a08f-40a4-a8b9-3166fe234eeb"
      },
      "source": [
        "# Roc curve\n",
        "\n",
        "plt.figure(figsize=[15,8])\n",
        "\n",
        "y_pred_test_proba = logreg.predict_proba(X_test)[:,1]\n",
        "\n",
        "\n",
        "# the roc_curve() returns the values for false positive rate, true positive rate and threshold\n",
        "# pass the actual target values and predicted probabilities to the function\n",
        "fpr, tpr, thresholds = roc_curve(y_test, y_pred_test_proba)\n",
        "\n",
        "# plot the ROC curve\n",
        "plt.plot(fpr, tpr,label='Logistic Regression_l2_penalty_C=1')\n",
        "\n",
        "# set limits for x and y axes\n",
        "plt.xlim([0.0, 1.0])\n",
        "plt.ylim([0.0, 1.0])\n",
        "\n",
        "# plot the straight line showing worst prediction for the model\n",
        "plt.plot([0, 1], [0, 1],'r--',label='Baseline model')\n",
        "\n",
        "# add plot and axes labels\n",
        "# set text size using 'fontsize'\n",
        "plt.title('ROC curve for Loan Defaulter Prediction Classifier (Full Model)', fontsize = 15)\n",
        "plt.xlabel('False positive rate (1-Specificity)', fontsize = 15)\n",
        "plt.ylabel('True positive rate (Sensitivity)', fontsize = 15)\n",
        "\n",
        "# add the AUC score to the plot\n",
        "# 'x' and 'y' gives position of the text\n",
        "# 's' is the text \n",
        "# use round() to round-off the AUC score upto 4 digits\n",
        "plt.text(x = 0.02, y = 0.82, s = ('AUC Score:', round(metrics.roc_auc_score(y_test, y_pred_test_proba),4)))\n",
        "                               \n",
        "# plot the grid\n",
        "plt.grid(True)\n",
        "\n",
        "# displaying legends\n",
        "plt.legend()\n",
        "\n",
        "plt.show()"
      ],
      "execution_count": 124,
      "outputs": [
        {
          "output_type": "display_data",
          "data": {
            "image/png": "[encoded data removed]",
            "text/plain": [
              "<Figure size 1080x576 with 1 Axes>"
            ]
          },
          "metadata": {
            "needs_background": "light"
          }
        }
      ]
    },
    {
      "cell_type": "code",
      "metadata": {
        "colab": {
          "base_uri": "https://localhost:8080/",
          "height": 205
        },
        "id": "PpRKMkAkJwmu",
        "outputId": "0cc34cb9-14aa-4edd-fb30-2df4a4eaa93f"
      },
      "source": [
        "# create a dataframe to store the values for false positive rate, true positive rate and threshold\n",
        "youdens_table = pd.DataFrame({'TPR': tpr,\n",
        "                             'FPR': fpr,\n",
        "                             'Threshold': thresholds})\n",
        "\n",
        "# calculate the difference between TPR and FPR for each threshold and store the values in a new column 'Difference'\n",
        "youdens_table['Difference'] = youdens_table.TPR - youdens_table.FPR\n",
        "\n",
        "# sort the dataframe based on the values of difference \n",
        "# 'ascending = False' sorts the data in descending order\n",
        "# 'reset_index' resets the index of the dataframe\n",
        "# 'drop = True' drops the previous index\n",
        "youdens_table = youdens_table.sort_values('Difference', ascending = False).reset_index(drop = True)\n",
        "\n",
        "# print the first five observations\n",
        "youdens_table.head()"
      ],
      "execution_count": 125,
      "outputs": [
        {
          "output_type": "execute_result",
          "data": {
            "text/html": [
              "<div>\n",
              "<style scoped>\n",
              "    .dataframe tbody tr th:only-of-type {\n",
              "        vertical-align: middle;\n",
              "    }\n",
              "\n",
              "    .dataframe tbody tr th {\n",
              "        vertical-align: top;\n",
              "    }\n",
              "\n",
              "    .dataframe thead th {\n",
              "        text-align: right;\n",
              "    }\n",
              "</style>\n",
              "<table border=\"1\" class=\"dataframe\">\n",
              "  <thead>\n",
              "    <tr style=\"text-align: right;\">\n",
              "      <th></th>\n",
              "      <th>TPR</th>\n",
              "      <th>FPR</th>\n",
              "      <th>Threshold</th>\n",
              "      <th>Difference</th>\n",
              "    </tr>\n",
              "  </thead>\n",
              "  <tbody>\n",
              "    <tr>\n",
              "      <th>0</th>\n",
              "      <td>0.796296</td>\n",
              "      <td>0.160000</td>\n",
              "      <td>0.429000</td>\n",
              "      <td>0.636296</td>\n",
              "    </tr>\n",
              "    <tr>\n",
              "      <th>1</th>\n",
              "      <td>0.703704</td>\n",
              "      <td>0.090000</td>\n",
              "      <td>0.556431</td>\n",
              "      <td>0.613704</td>\n",
              "    </tr>\n",
              "    <tr>\n",
              "      <th>2</th>\n",
              "      <td>0.722222</td>\n",
              "      <td>0.110000</td>\n",
              "      <td>0.519079</td>\n",
              "      <td>0.612222</td>\n",
              "    </tr>\n",
              "    <tr>\n",
              "      <th>3</th>\n",
              "      <td>0.740741</td>\n",
              "      <td>0.130000</td>\n",
              "      <td>0.481478</td>\n",
              "      <td>0.610741</td>\n",
              "    </tr>\n",
              "    <tr>\n",
              "      <th>4</th>\n",
              "      <td>0.703704</td>\n",
              "      <td>0.110000</td>\n",
              "      <td>0.519934</td>\n",
              "      <td>0.593704</td>\n",
              "    </tr>\n",
              "  </tbody>\n",
              "</table>\n",
              "</div>"
            ],
            "text/plain": [
              "       TPR      FPR  Threshold  Difference\n",
              "0 0.796296 0.160000   0.429000    0.636296\n",
              "1 0.703704 0.090000   0.556431    0.613704\n",
              "2 0.722222 0.110000   0.519079    0.612222\n",
              "3 0.740741 0.130000   0.481478    0.610741\n",
              "4 0.703704 0.110000   0.519934    0.593704"
            ]
          },
          "metadata": {},
          "execution_count": 125
        }
      ]
    },
    {
      "cell_type": "code",
      "metadata": {
        "id": "BzWCPzfeKNtF"
      },
      "source": [
        "# convert probabilities to 0 and 1 using 'if_else'\n",
        "y_pred_test_youden = [ 0 if x < 0.429 else 1 for x in y_pred_test_proba]"
      ],
      "execution_count": 126,
      "outputs": []
    },
    {
      "cell_type": "code",
      "metadata": {
        "colab": {
          "base_uri": "https://localhost:8080/",
          "height": 274
        },
        "id": "W_sxgOs8KmUr",
        "outputId": "2485a0f1-bb81-4000-c09d-55142006efff"
      },
      "source": [
        "# create a confusion matrix\n",
        "# pass the actual and predicted target values to the confusion_matrix()\n",
        "cm = confusion_matrix(y_test, y_pred_test_youden)\n",
        "\n",
        "# label the confusion matrix  \n",
        "# pass the matrix as 'data'\n",
        "# pass the required column names to the parameter, 'columns'\n",
        "# pass the required row names to the parameter, 'index'\n",
        "conf_matrix = pd.DataFrame(data = cm,columns = ['Predicted:0','Predicted:1'], index = ['Actual:0','Actual:1'])\n",
        "\n",
        "# plot a heatmap to visualize the confusion matrix\n",
        "# 'annot' prints the value of each grid \n",
        "# 'fmt = d' returns the integer value in each grid\n",
        "# 'cmap' assigns color to each grid\n",
        "# as we do not require different colors for each grid in the heatmap,\n",
        "# use 'ListedColormap' to assign the specified color to the grid\n",
        "# 'cbar = False' will not return the color bar to the right side of the heatmap\n",
        "# 'linewidths' assigns the width to the line that divides each grid\n",
        "# 'annot_kws = {'size':25})' assigns the font size of the annotated text \n",
        "sns.heatmap(conf_matrix, annot = True, fmt = 'd', cmap = ListedColormap(['lightskyblue']), cbar = False, \n",
        "            linewidths = 0.1, annot_kws = {'size':25})\n",
        "\n",
        "# set the font size of x-axis ticks using 'fontsize'\n",
        "plt.xticks(fontsize = 20)\n",
        "\n",
        "# set the font size of y-axis ticks using 'fontsize'\n",
        "plt.yticks(fontsize = 20)\n",
        "\n",
        "# display the plot\n",
        "plt.show()"
      ],
      "execution_count": 127,
      "outputs": [
        {
          "output_type": "display_data",
          "data": {
            "image/png": "[encoded data removed]",
            "text/plain": [
              "<Figure size 432x288 with 1 Axes>"
            ]
          },
          "metadata": {
            "needs_background": "light"
          }
        }
      ]
    },
    {
      "cell_type": "code",
      "metadata": {
        "colab": {
          "base_uri": "https://localhost:8080/"
        },
        "id": "ovUT6ENhKudB",
        "outputId": "4d1a218d-8751-4750-b46f-138c953d40e0"
      },
      "source": [
        "# calculate various performance measures\n",
        "acc_table = classification_report(y_test, y_pred_test_youden)\n",
        "\n",
        "# print the table\n",
        "print(acc_table)"
      ],
      "execution_count": 128,
      "outputs": [
        {
          "output_type": "stream",
          "name": "stdout",
          "text": [
            "              precision    recall  f1-score   support\n",
            "\n",
            "           0       0.88      0.84      0.86       100\n",
            "           1       0.72      0.78      0.75        54\n",
            "\n",
            "    accuracy                           0.82       154\n",
            "   macro avg       0.80      0.81      0.80       154\n",
            "weighted avg       0.82      0.82      0.82       154\n",
            "\n"
          ]
        }
      ]
    },
    {
      "cell_type": "code",
      "metadata": {
        "colab": {
          "base_uri": "https://localhost:8080/",
          "height": 520
        },
        "id": "st8gvzi5LBfm",
        "outputId": "2b4f3fd6-8a1f-41b4-eec8-7d5db5dcb9c4"
      },
      "source": [
        "# precision recall curve\n",
        "\n",
        "plt.figure(figsize=[15,8])\n",
        "\n",
        "lr_precision, lr_recall, threshold = precision_recall_curve(y_test,y_pred_test_proba)\n",
        "\n",
        "lr_f1, lr_auc = f1_score(y_test, y_pred_test), auc(lr_recall, lr_precision)\n",
        "\n",
        "# summarize scores\n",
        "#print('Logistic: f1=%.3f auc=%.3f' % (lr_f1, lr_auc))\n",
        "\n",
        "# plot the precision-recall curves\n",
        "Baseline = len(y_test[y_test==1]) / len(y_test)\n",
        "\n",
        "plt.plot([0, 1], [Baseline,Baseline], linestyle='--', label='Baseline',color='r')\n",
        "\n",
        "plt.plot(lr_recall, lr_precision, marker='.', label='Logistic Regression_l2_penalty_C=1',color='b')\n",
        "\n",
        "average_precision = average_precision_score(y_test, y_pred_test_proba)\n",
        "\n",
        "#print('Average precision-recall score:'\n",
        "#      ,average_precision)\n",
        "\n",
        "# add the AUC score to the plot\n",
        "# 'x' and 'y' gives position of the text\n",
        "# 's' is the text \n",
        "# use round() to round-off the average precision score upto 4 digits\n",
        "plt.text(x = 0.02, y = 0.9, s = ('Average_Precision Score:', round(average_precision,4)))\n",
        "\n",
        "# axis labels\n",
        "plt.title('Precision-Recall curve for Loan Defaulter Prediction Classifier (Full Model)', fontsize = 15)\n",
        "plt.xlabel('Recall',fontsize = 15)\n",
        "plt.ylabel('Precision',fontsize = 15)\n",
        "\n",
        "# show the legend\n",
        "plt.legend()\n",
        "\n",
        "# show the plot\n",
        "plt.show()"
      ],
      "execution_count": 129,
      "outputs": [
        {
          "output_type": "display_data",
          "data": {
            "image/png": "[encoded data removed]",
            "text/plain": [
              "<Figure size 1080x576 with 1 Axes>"
            ]
          },
          "metadata": {
            "needs_background": "light"
          }
        }
      ]
    },
    {
      "cell_type": "markdown",
      "metadata": {
        "id": "bTxnV_VfLcL4"
      },
      "source": [
        "### Cross Validation"
      ]
    },
    {
      "cell_type": "code",
      "metadata": {
        "id": "fzw0DmojLUQF"
      },
      "source": [
        "# using cross_val_score() for k-fold cross validation\n",
        "# estimator: pass the machine learning function. Here we are performing logistic regression\n",
        "# pass the X_train and y_train sets\n",
        "# cv: stands for number of folds. Similar to k in KFold\n",
        "# scoring: pass the 'f1_weighted' for imbalanced classification dataset\n",
        "skf=StratifiedKFold(n_splits=5,shuffle=True, random_state=10)\n",
        "\n",
        "scores = cross_val_score(estimator = LogisticRegression(), \n",
        "                         X = X_train, \n",
        "                         y = y_train, \n",
        "                         cv = skf,scoring='roc_auc')"
      ],
      "execution_count": 130,
      "outputs": []
    },
    {
      "cell_type": "code",
      "metadata": {
        "colab": {
          "base_uri": "https://localhost:8080/"
        },
        "id": "uQ1uSK1pLlPD",
        "outputId": "39b74eba-07a9-4d80-82b7-f074fd6a791b"
      },
      "source": [
        "# print all scores\n",
        "print('All scores: ', scores)\n",
        "\n",
        "# print the minimum score from the list\n",
        "# use 'round()' to round-off the minimum score upto 4 digits\n",
        "# min() returns minimum score \n",
        "print(\"\\nMinimum score obtained: \", round(min(scores), 4))\n",
        "\n",
        "# print the maximum score from the list\n",
        "# use 'round()' to round-off the maximum score upto 4 digits\n",
        "# max() returns maximum score \n",
        "print(\"Maximum score obtained: \", round(max(scores), 4))\n",
        "\n",
        "# print the average score from the list\n",
        "# use 'round()' to round-off the average score upto 4 digits\n",
        "# np.mean() returns average score \n",
        "print(\"Bias Error: \", round(1-np.mean(scores), 4))\n",
        "\n",
        "print(\"Variance Error: \", round(np.std(scores,ddof=1), 4))"
      ],
      "execution_count": 131,
      "outputs": [
        {
          "output_type": "stream",
          "name": "stdout",
          "text": [
            "All scores:  [0.90319767 0.86395349 0.84662938 0.77185752 0.77142857]\n",
            "\n",
            "Minimum score obtained:  0.7714\n",
            "Maximum score obtained:  0.9032\n",
            "Bias Error:  0.1686\n",
            "Variance Error:  0.0583\n"
          ]
        }
      ]
    }
  ]
}